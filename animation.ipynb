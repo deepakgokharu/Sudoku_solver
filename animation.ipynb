{
 "cells": [
  {
   "cell_type": "code",
   "execution_count": 1,
   "metadata": {},
   "outputs": [
    {
     "name": "stdout",
     "output_type": "stream",
     "text": [
      "pygame 2.0.1 (SDL 2.0.14, Python 3.8.5)\n",
      "Hello from the pygame community. https://www.pygame.org/contribute.html\n"
     ]
    }
   ],
   "source": [
    "import pygame\n",
    "pygame.init()\n",
    "\n",
    "def next(x,y,i,j,width,rect_side,edge_width):\n",
    "    temp_y=y+rect_side+edge_width\n",
    "    if temp_y<width:\n",
    "        return x,temp_y,i,j+1\n",
    "    return x+rect_side+edge_width,edge_width,i+1,0\n",
    "\n",
    "def centre(x,rect_side,num_size):\n",
    "    return x+(rect_side-num_size)//2\n",
    "\n",
    "\n",
    "rect_side = 60\n",
    "edge_width = 5\n",
    "num_size = 30\n",
    "width,height = 2*[9*rect_side+10*edge_width]\n",
    "white = (255,255,255)\n",
    "black = (0,0,0)\n",
    "\n",
    "\n",
    "screen = pygame.display.set_mode((width,height))\n",
    "pygame.display.set_caption('Sudoku Solver')\n",
    "font = pygame.font.Font('freesansbold.ttf', num_size)\n",
    "run = True\n",
    "screen.fill(black)\n",
    "nums = [font.render(str(x),True,black,white) for x in range(10)]\n",
    "nums[0] = font.render(' ',True,black,white)\n",
    "\n",
    "#creating the cells\n",
    "x,y,i,j,index = edge_width,edge_width,0,0,0\n",
    "while x<width and y<height:\n",
    "    pygame.draw.rect(screen,white,pygame.Rect(x,y,rect_side,rect_side))\n",
    "    screen.blit(nums[0],(centre(x,rect_side,num_size-10),centre(y,rect_side,num_size-10)))\n",
    "    #if i%3==2:\n",
    "    #    x+=edge_width\n",
    "    #if j%3==2:\n",
    "    #    y+=edge_width\n",
    "    x,y,i,j = next(x,y,i,j,width,rect_side,edge_width)\n",
    "    index=index+1\n",
    "\n",
    "    \n",
    "pygame.display.flip()\n",
    "while run:\n",
    "    for event in pygame.event.get():\n",
    "        if event.type == pygame.QUIT:\n",
    "            run = False\n",
    "            \n",
    "            \n",
    "            \n",
    "pygame.quit()"
   ]
  },
  {
   "cell_type": "code",
   "execution_count": 13,
   "metadata": {},
   "outputs": [],
   "source": []
  },
  {
   "cell_type": "code",
   "execution_count": null,
   "metadata": {},
   "outputs": [],
   "source": []
  }
 ],
 "metadata": {
  "kernelspec": {
   "display_name": "Python 3",
   "language": "python",
   "name": "python3"
  },
  "language_info": {
   "codemirror_mode": {
    "name": "ipython",
    "version": 3
   },
   "file_extension": ".py",
   "mimetype": "text/x-python",
   "name": "python",
   "nbconvert_exporter": "python",
   "pygments_lexer": "ipython3",
   "version": "3.8.5"
  }
 },
 "nbformat": 4,
 "nbformat_minor": 4
}
